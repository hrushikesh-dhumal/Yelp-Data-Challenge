{
 "cells": [
  {
   "cell_type": "code",
   "execution_count": 1,
   "metadata": {
    "collapsed": true
   },
   "outputs": [],
   "source": [
    "#!/usr/bin/env python\n",
    "# -*- coding: utf-8 -*-\n",
    "#######################\n",
    "__version__ = \"1.0\"\n",
    "__date__ = \"2016-04-19\"\n",
    "__modified_by__ = \"Aditya Tanikanti\"\n",
    "####################################"
   ]
  },
  {
   "cell_type": "code",
   "execution_count": 2,
   "metadata": {
    "collapsed": true
   },
   "outputs": [],
   "source": [
    "import os\n",
    "import numpy as np\n",
    "import pandas as pd\n",
    "from utils import load_sparse_csr"
   ]
  },
  {
   "cell_type": "code",
   "execution_count": 3,
   "metadata": {
    "collapsed": false
   },
   "outputs": [],
   "source": [
    "from sklearn.cross_validation import KFold\n",
    "from sklearn import metrics\n",
    "from scipy.sparse import csr_matrix\n",
    "from sklearn.naive_bayes import *\n",
    "from sklearn import preprocessing\n",
    "from sklearn.preprocessing import *"
   ]
  },
  {
   "cell_type": "code",
   "execution_count": 4,
   "metadata": {
    "collapsed": true
   },
   "outputs": [],
   "source": [
    "SEED_VAL = 200;\n",
    "WORK_DIR = os.getcwd();\n",
    "data_subset = \"_0_1Percent\"\n",
    "YELP_DATA_CSV_DIR = os.path.join(WORK_DIR, \"data\", \"csv\")\n",
    "YELP_DATA_SPARSE_MATRIX_DIR = os.path.join(WORK_DIR, \"data\", \"sparse_matrix\")\n",
    "YELP_DATA_WORD_2_VEC_MODEL_DIR = os.path.join(WORK_DIR, \"data\", \"word2vec_model\")"
   ]
  },
  {
   "cell_type": "code",
   "execution_count": 5,
   "metadata": {
    "collapsed": true
   },
   "outputs": [],
   "source": [
    "# Read data\n",
    "read_filename = os.path.join(YELP_DATA_CSV_DIR, 'business_review_user' + data_subset + \".csv\")\n",
    "df_data = pd.read_csv(read_filename, engine='c', encoding='utf-8')"
   ]
  },
  {
   "cell_type": "code",
   "execution_count": 6,
   "metadata": {
    "collapsed": true
   },
   "outputs": [],
   "source": [
    "def myNB(bow_feature_matrix_train, y_train, bow_feature_matrix_test, y_test):\n",
    "    bernoulli_nb_classifier = BernoulliNB()\n",
    "    bernoulli_nb_classifier.fit((bow_feature_matrix_train), y_train)\n",
    "    \n",
    "    bernoulli_nb_prediction = bernoulli_nb_classifier.predict(bow_feature_matrix_train)\n",
    "    train_accuracy = metrics.accuracy_score(y_train, bernoulli_nb_prediction)\n",
    "    \n",
    "    bernoulli_nb_prediction2 = bernoulli_nb_classifier.predict(bow_feature_matrix_test)\n",
    "    test_accuracy = metrics.accuracy_score(y_test, bernoulli_nb_prediction2)\n",
    "                           \n",
    "    return [train_accuracy, test_accuracy]\n",
    "\n",
    "def myKFoldNB(X, y, n_fold):\n",
    "    res_nb_train = []\n",
    "    res_nb_test = []\n",
    "    \n",
    "    res_nb_train_avg = 0.0\n",
    "    res_nb_test_avg = 0.0\n",
    "    \n",
    "    res_nb = []\n",
    "    \n",
    "    kf = KFold(X.shape[0], n_folds=n_fold)\n",
    "    \n",
    "    for train_index, test_index in kf:\n",
    "        X_train, X_test = X[train_index], X[test_index]\n",
    "        y_train, y_test = y[train_index], y[test_index]\n",
    "        \n",
    "        res_nb = myNB(X_train, y_train, X_test, y_test)\n",
    "        \n",
    "        res_nb_train_avg = res_nb_train_avg + float(res_nb[0])\n",
    "        res_nb_test_avg = res_nb_test_avg + float(res_nb[1])\n",
    "        \n",
    "        res_nb_train.append(res_nb[0])\n",
    "        res_nb_test.append(res_nb[1])\n",
    "        \n",
    "    res_nb_train_avg = res_nb_train_avg / n_fold\n",
    "    res_nb_test_avg = res_nb_test_avg / n_fold\n",
    "    \n",
    "    print \"NB training data accuracy: \" + str(res_nb_train)\n",
    "    print \"NB training data average accuracy: \" + str(res_nb_train_avg)\n",
    "    print \"NB test data accuracy:\" + str(res_nb_test)\n",
    "    print \"NB test data average accuracy: \" + str(res_nb_test_avg)\n",
    "\n",
    "y = df_data.review_stars"
   ]
  },
  {
   "cell_type": "markdown",
   "metadata": {},
   "source": [
    "# Bag of Words"
   ]
  },
  {
   "cell_type": "code",
   "execution_count": 7,
   "metadata": {
    "collapsed": false
   },
   "outputs": [],
   "source": [
    "spare_matrix_file = os.path.join(YELP_DATA_SPARSE_MATRIX_DIR, \"bagWords\" + data_subset)\n",
    "feature_matrix_bag_of_words = load_sparse_csr(spare_matrix_file + \".npz\")"
   ]
  },
  {
   "cell_type": "code",
   "execution_count": 8,
   "metadata": {
    "collapsed": false
   },
   "outputs": [
    {
     "name": "stdout",
     "output_type": "stream",
     "text": [
      "NB training data accuracy: [0.61011235955056176, 0.61685393258426968, 0.60786516853932582, 0.60617977528089884, 0.6151685393258427]\n",
      "NB training data average accuracy: 0.611235955056\n",
      "NB test data accuracy:[0.4606741573033708, 0.48764044943820223, 0.46966292134831461, 0.49662921348314609, 0.48988764044943822]\n",
      "NB test data average accuracy: 0.480898876404\n"
     ]
    }
   ],
   "source": [
    "myKFoldNB(feature_matrix_bag_of_words, y, 5)"
   ]
  },
  {
   "cell_type": "markdown",
   "metadata": {
    "collapsed": true
   },
   "source": [
    "# Bag of Words + Hand crafted Features"
   ]
  },
  {
   "cell_type": "code",
   "execution_count": 17,
   "metadata": {
    "collapsed": false,
    "scrolled": true
   },
   "outputs": [],
   "source": [
    "spare_matrix_file = os.path.join(YELP_DATA_SPARSE_MATRIX_DIR, \"bagWords_feat_add\" + data_subset)\n",
    "feature_matrix_bag_of_words_and_hand_craft_features = load_sparse_csr(spare_matrix_file + \".npz\")"
   ]
  },
  {
   "cell_type": "code",
   "execution_count": 18,
   "metadata": {
    "collapsed": false
   },
   "outputs": [
    {
     "name": "stdout",
     "output_type": "stream",
     "text": [
      "NB training data accuracy: [0.61292134831460676, 0.60617977528089884, 0.60842696629213489, 0.61235955056179781, 0.60561797752808988]\n",
      "NB training data average accuracy: 0.609101123596\n",
      "NB test data accuracy:[0.46741573033707867, 0.46516853932584268, 0.42022471910112358, 0.45168539325842699, 0.44269662921348313]\n",
      "NB test data average accuracy: 0.449438202247\n"
     ]
    }
   ],
   "source": [
    "myKFoldNB(feature_matrix_bag_of_words_and_hand_craft_features, y, 5)"
   ]
  },
  {
   "cell_type": "markdown",
   "metadata": {},
   "source": [
    "# Word embedding"
   ]
  },
  {
   "cell_type": "code",
   "execution_count": 9,
   "metadata": {
    "collapsed": false
   },
   "outputs": [],
   "source": [
    "word2vec_feature_matrix_file = os.path.join(YELP_DATA_WORD_2_VEC_MODEL_DIR, \"word2vec_feature_matrix\" + data_subset+ \".csv\")\n",
    "feature_matrix_word2vec = np.genfromtxt(word2vec_feature_matrix_file, delimiter=',')  "
   ]
  },
  {
   "cell_type": "code",
   "execution_count": 10,
   "metadata": {
    "collapsed": false
   },
   "outputs": [
    {
     "name": "stdout",
     "output_type": "stream",
     "text": [
      "NB training data accuracy: [0.38595505617977527, 0.39101123595505616, 0.39438202247191012, 0.38370786516853933, 0.40168539325842695]\n",
      "NB training data average accuracy: 0.391348314607\n",
      "NB test data accuracy:[0.39101123595505616, 0.35056179775280899, 0.36179775280898874, 0.38202247191011235, 0.3707865168539326]\n",
      "NB test data average accuracy: 0.371235955056\n"
     ]
    }
   ],
   "source": [
    "myKFoldNB(feature_matrix_word2vec, y, 5)"
   ]
  },
  {
   "cell_type": "markdown",
   "metadata": {},
   "source": [
    "# Word 2 Vec + Hand crafted Features"
   ]
  },
  {
   "cell_type": "code",
   "execution_count": 23,
   "metadata": {
    "collapsed": false
   },
   "outputs": [],
   "source": [
    "word2vec_feature_matrix_file = os.path.join(YELP_DATA_WORD_2_VEC_MODEL_DIR, \"word2vec_add_feature_matrix\" + data_subset+ \".csv\")\n",
    "feature_matrix_word2vec_and_hand_craft_features = np.genfromtxt(word2vec_feature_matrix_file, delimiter=',')  "
   ]
  },
  {
   "cell_type": "code",
   "execution_count": 24,
   "metadata": {
    "collapsed": false
   },
   "outputs": [
    {
     "name": "stdout",
     "output_type": "stream",
     "text": [
      "NB training data accuracy: [0.45955056179775283, 0.45842696629213481, 0.46292134831460674, 0.46011235955056179, 0.46741573033707867]\n",
      "NB training data average accuracy: 0.461685393258\n",
      "NB test data accuracy:[0.47415730337078654, 0.48089887640449436, 0.43820224719101125, 0.47191011235955055, 0.43820224719101125]\n",
      "NB test data average accuracy: 0.460674157303\n"
     ]
    }
   ],
   "source": [
    "myKFoldNB(feature_matrix_word2vec_and_hand_craft_features, y, 5)"
   ]
  },
  {
   "cell_type": "markdown",
   "metadata": {
    "collapsed": true
   },
   "source": [
    "# Hand crafted features"
   ]
  },
  {
   "cell_type": "code",
   "execution_count": 25,
   "metadata": {
    "collapsed": true
   },
   "outputs": [],
   "source": [
    "feature_matrix_hand_craft_features = feature_matrix_word2vec_and_hand_craft_features[:,100:104]"
   ]
  },
  {
   "cell_type": "code",
   "execution_count": 26,
   "metadata": {
    "collapsed": false
   },
   "outputs": [
    {
     "name": "stdout",
     "output_type": "stream",
     "text": [
      "NB training data accuracy: [0.45449438202247189, 0.45280898876404496, 0.46179775280898877, 0.45449438202247189, 0.46179775280898877]\n",
      "NB training data average accuracy: 0.457078651685\n",
      "NB test data accuracy:[0.46741573033707867, 0.47415730337078654, 0.43820224719101125, 0.46741573033707867, 0.43820224719101125]\n",
      "NB test data average accuracy: 0.457078651685\n"
     ]
    }
   ],
   "source": [
    "myKFoldNB(feature_matrix_hand_craft_features, y, 5)"
   ]
  },
  {
   "cell_type": "code",
   "execution_count": null,
   "metadata": {
    "collapsed": true
   },
   "outputs": [],
   "source": []
  }
 ],
 "metadata": {
  "kernelspec": {
   "display_name": "Python 2",
   "language": "python",
   "name": "python2"
  },
  "language_info": {
   "codemirror_mode": {
    "name": "ipython",
    "version": 2
   },
   "file_extension": ".py",
   "mimetype": "text/x-python",
   "name": "python",
   "nbconvert_exporter": "python",
   "pygments_lexer": "ipython2",
   "version": "2.7.11"
  }
 },
 "nbformat": 4,
 "nbformat_minor": 0
}
